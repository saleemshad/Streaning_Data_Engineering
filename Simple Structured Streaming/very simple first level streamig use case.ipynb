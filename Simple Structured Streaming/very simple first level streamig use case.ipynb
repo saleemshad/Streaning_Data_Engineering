{
 "cells": [
  {
   "cell_type": "code",
   "execution_count": 0,
   "metadata": {
    "application/vnd.databricks.v1+cell": {
     "cellMetadata": {},
     "inputWidgets": {},
     "nuid": "c56fa581-9696-46aa-8669-18a0d9ef9b52",
     "showTitle": false,
     "tableResultSettingsMap": {},
     "title": ""
    }
   },
   "outputs": [],
   "source": [
    "#input data ADLS Gen2 - /mnt/userspace/custom_dataset/saleem.shad/Streaming_data_use_case/raw\n",
    "#output data path - /mnt/userspace/custom_dataset/saleem.shad/Streaming_data_use_case/processed\n",
    "#checkpoint path - /mnt/userspace/custom_dataset/saleem.shad/Streaming_data_use_case/checkpoint"
   ]
  },
  {
   "cell_type": "code",
   "execution_count": 0,
   "metadata": {
    "application/vnd.databricks.v1+cell": {
     "cellMetadata": {
      "byteLimit": 2048000,
      "rowLimit": 10000
     },
     "inputWidgets": {},
     "nuid": "f7c77a8d-a84a-46d2-9de5-6d25e133376b",
     "showTitle": false,
     "tableResultSettingsMap": {},
     "title": ""
    }
   },
   "outputs": [],
   "source": [
    "from pyspark.sql.types import *\n"
   ]
  },
  {
   "cell_type": "code",
   "execution_count": 0,
   "metadata": {
    "application/vnd.databricks.v1+cell": {
     "cellMetadata": {
      "byteLimit": 2048000,
      "rowLimit": 10000
     },
     "inputWidgets": {},
     "nuid": "bccb9b2a-9caf-426b-b797-20045d40a30e",
     "showTitle": false,
     "tableResultSettingsMap": {},
     "title": ""
    }
   },
   "outputs": [],
   "source": [
    "#define schema for IOT data\n",
    "schema = StructType([\n",
    "    StructField(\"ID\", IntegerType(), True),\n",
    "    StructField(\"Datetime\",TimestampType(),True),\n",
    "    StructField(\"Temparature\",DoubleType(),True),\n",
    "    StructField(\"Humidity\", DoubleType(), True),\n",
    "    StructField(\"Pressure\", DoubleType(),True),\n",
    "    StructField(\"Co2_Gas\", IntegerType(),True),\n",
    "    StructField(\"PM2_5\", DoubleType(), True),\n",
    "    StructField(\"PM10\", DoubleType(), True),\n",
    "    StructField(\"Daytime\", StringType(), True)\n",
    "])"
   ]
  },
  {
   "cell_type": "code",
   "execution_count": 0,
   "metadata": {
    "application/vnd.databricks.v1+cell": {
     "cellMetadata": {
      "byteLimit": 2048000,
      "rowLimit": 10000
     },
     "inputWidgets": {},
     "nuid": "e7a290c2-e17c-482f-a9a2-a279d0b3c445",
     "showTitle": false,
     "tableResultSettingsMap": {},
     "title": ""
    }
   },
   "outputs": [],
   "source": [
    "#readstream,\n",
    "read_stream = (spark.readStream\n",
    "               .format(\"csv\")\n",
    "               .schema(schema)\n",
    "               .option(\"header\", \"true\")\n",
    "               .option(\"maxFilesPerTrigger\", 1)\n",
    "               .load(\"/mnt/userspace/custom_dataset/saleem.shad/Streaming_data_use_case/raw\")\n",
    "               )"
   ]
  },
  {
   "cell_type": "code",
   "execution_count": 0,
   "metadata": {
    "application/vnd.databricks.v1+cell": {
     "cellMetadata": {
      "byteLimit": 2048000,
      "rowLimit": 10000
     },
     "inputWidgets": {},
     "nuid": "79e8c215-c1ad-4a0c-b5b3-bc5b21d603ee",
     "showTitle": false,
     "tableResultSettingsMap": {},
     "title": ""
    }
   },
   "outputs": [],
   "source": [
    "#write stream\n",
    "write_stream =(read_stream.writeStream\n",
    "               .format(\"delta\")\n",
    "               .outputMode(\"append\")\n",
    "               .option(\"checkpointLocation\", \"/mnt/userspace/custom_dataset/saleem.shad/Streaming_data_use_case/checkpoint\")\n",
    "               .option(\"path\", \"/mnt/userspace/custom_dataset/saleem.shad/Streaming_data_use_case/processed\")\n",
    "               .trigger(processingTime=\"1 minute\")\n",
    "               .start()               \n",
    "               )"
   ]
  },
  {
   "cell_type": "code",
   "execution_count": 0,
   "metadata": {
    "application/vnd.databricks.v1+cell": {
     "cellMetadata": {
      "byteLimit": 2048000,
      "rowLimit": 10000
     },
     "inputWidgets": {},
     "nuid": "9c6b5483-3877-4bb4-86c5-bc501f3ebd1d",
     "showTitle": false,
     "tableResultSettingsMap": {},
     "title": ""
    }
   },
   "outputs": [
    {
     "output_type": "execute_result",
     "data": {
      "text/plain": [
       "{'message': 'Stopped', 'isDataAvailable': False, 'isTriggerActive': False}"
      ]
     },
     "execution_count": 17,
     "metadata": {},
     "output_type": "execute_result"
    }
   ],
   "source": [
    "write_stream.status"
   ]
  }
 ],
 "metadata": {
  "application/vnd.databricks.v1+notebook": {
   "dashboards": [],
   "environmentMetadata": {
    "base_environment": "",
    "client": "1"
   },
   "language": "python",
   "notebookMetadata": {
    "pythonIndentUnit": 4
   },
   "notebookName": "very simple first level streamig use case",
   "widgets": {}
  },
  "language_info": {
   "name": "python"
  }
 },
 "nbformat": 4,
 "nbformat_minor": 0
}
